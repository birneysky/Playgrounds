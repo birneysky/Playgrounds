{
 "cells": [
  {
   "cell_type": "markdown",
   "metadata": {},
   "source": [
    "# Setup"
   ]
  },
  {
   "cell_type": "code",
   "execution_count": null,
   "metadata": {},
   "outputs": [],
   "source": [
    "from pycoreimage.pyci import cimg\n",
    "from pycoreimage.pyci import show\n",
    "from pycoreimage.pyci import color\n",
    "import numpy as np\n",
    "import matplotlib\n",
    "%matplotlib inline\n",
    "matplotlib.rcParams['figure.figsize'] = [25,17]\n",
    "from IPython.core.display import display, HTML\n",
    "display(HTML(\"<style>.contatiner {width: 90 % !important; }</style>\"))"
   ]
  },
  {
   "cell_type": "markdown",
   "metadata": {},
   "source": [
    "# GPU Kernels"
   ]
  },
  {
   "cell_type": "markdown",
   "metadata": {},
   "source": [
    "### Color kernel"
   ]
  },
  {
   "cell_type": "code",
   "execution_count": null,
   "metadata": {},
   "outputs": [],
   "source": [
    "sampleLady = cimg.fromFile('resources/SampleImage.jpg')\n",
    "\n",
    "source = \"\"\" kernel vec4 color(__sample img, float scale) {\n",
    "    //img.r = sqrt(abs(img.r));\n",
    "    //img.r = scale * img.b;\n",
    "    img.rb = img.br;\n",
    "    return img;\n",
    "}\"\"\"\n",
    "filterLady = sampleLady.applyKernel(source, 1.5)\n",
    "show([sampleLady,filterLady])"
   ]
  },
  {
   "cell_type": "markdown",
   "metadata": {},
   "source": [
    "### General colors"
   ]
  },
  {
   "cell_type": "code",
   "execution_count": null,
   "metadata": {},
   "outputs": [],
   "source": [
    "# make additional taps in the neighborhood of each pixel \n",
    "src = \"\"\"\n",
    "kernel vec4 bilateral(sampler u, float k, float colorInv, float spatialInv) {\n",
    "    vec2 dc = destCoord();\n",
    "    vec2 pu = samplerCoord(u);\n",
    "    vec2 uDelta = samplerTransform(u, dc+vec2(1.0)) - pu;\n",
    "    vec4 u_0 = sample(u, pu);\n",
    "    vec4 C = vec4(0.0);\n",
    "    float W = 0.0;\n",
    "    for (float x = -k; x <= k; x++) {\n",
    "        for (float y = -k; y <= k; y++){\n",
    "            float ws = exp(-(x*x+y*y) * spatialInv);\n",
    "            vec4 u_xy  = sample(u, pu + vec2(x,y)*uDelta);\n",
    "            vec3 diff = u_xy.rgb-u_0.rgb;\n",
    "            float wc = exp(-dot(diff,diff) * colorInv);\n",
    "            W += ws * wc;\n",
    "            C += ws * wc * u_xy;\n",
    "        }\n",
    "    }\n",
    "    return W < 0.0001 ? u_0 : C / W;\n",
    "}\n",
    "\"\"\"\n",
    "sigmaSpatial = 20\n",
    "sigmaColor = 0.15\n",
    "radius = 3.0 * sigmaSpatial\n",
    "sampleLady1 = cimg.fromFile('resources/SampleImage.jpg')\n",
    "filterLady1 = sampleLady1.applyKernel(src, \n",
    "                              radius, \n",
    "                              sigmaColor ** -2, \n",
    "                              sigmaSpatial ** -2, \n",
    "                              roi=lambda index,r: r);\n",
    "show([sampleLady1,filterLady1])"
   ]
  },
  {
   "cell_type": "code",
   "execution_count": null,
   "metadata": {},
   "outputs": [],
   "source": [
    "details = sampleLady1.render() - filterLady1.render()\n",
    "detail_normal = (details - details.min()) / (details.max() - details.min())\n",
    "show(detail_normal)"
   ]
  },
  {
   "cell_type": "code",
   "execution_count": null,
   "metadata": {},
   "outputs": [],
   "source": [
    "reduction = filterLady1.render() + 2 *  details\n",
    "show([filterLady1, reduction])"
   ]
  },
  {
   "cell_type": "markdown",
   "metadata": {},
   "source": [
    "### Auxiliary Images and Metadata"
   ]
  },
  {
   "cell_type": "code",
   "execution_count": null,
   "metadata": {},
   "outputs": [],
   "source": [
    "path = 'resources/IMG_4995.JPG'\n",
    "box = cimg.fromFile(path)\n",
    "# https://www.raywenderlich.com/314-image-depth-maps-tutorial-for-ios-getting-started\n",
    "depth = cimg.fromFile(path, useDepth = True)\n",
    "#matte = cimg.fromFile(path, useMatte = True)\n",
    "show([box, depth])\n",
    "#show([box, depth, matte])"
   ]
  },
  {
   "cell_type": "code",
   "execution_count": null,
   "metadata": {},
   "outputs": [],
   "source": [
    "exif = box.ciimage.properties()\n",
    "#print(exif)\n",
    "exif = exif['{Exif}']\n",
    "#print(exif)\n",
    "print('F Number', exif['FNumber'])\n",
    "print('ISO', exif['ISOSpeedRatings'][0])\n",
    "print('Maker', exif['LensMake'])\n",
    "print('Focal length', exif['FocalLenIn35mmFilm'], 'mm')"
   ]
  }
 ],
 "metadata": {
  "kernelspec": {
   "display_name": "Python 3",
   "language": "python",
   "name": "python3"
  },
  "language_info": {
   "codemirror_mode": {
    "name": "ipython",
    "version": 3
   },
   "file_extension": ".py",
   "mimetype": "text/x-python",
   "name": "python",
   "nbconvert_exporter": "python",
   "pygments_lexer": "ipython3",
   "version": "3.6.5"
  }
 },
 "nbformat": 4,
 "nbformat_minor": 2
}
