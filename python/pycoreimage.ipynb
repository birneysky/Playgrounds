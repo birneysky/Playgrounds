{
 "cells": [
  {
   "cell_type": "code",
   "execution_count": null,
   "metadata": {},
   "outputs": [],
   "source": [
    "from pycoreimage.pyci import cimg\n",
    "from pycoreimage.pyci import show\n",
    "from pycoreimage.pyci import color\n",
    "# load an image from file\n",
    "originImg = cimg.fromFile('./resources/Flowers_1.jpg')\n",
    "#print(type(originImg))\n",
    "#print(originImg)\n",
    "bar = originImg.render() #图片缓存 numpy 表示\n",
    "show(originImg.render(), title='{}X{}'.format(*originImg.size))"
   ]
  },
  {
   "cell_type": "markdown",
   "metadata": {},
   "source": [
    "### Core Image filters"
   ]
  },
  {
   "cell_type": "code",
   "execution_count": null,
   "metadata": {
    "scrolled": true
   },
   "outputs": [],
   "source": [
    "# apply a filter\n",
    "gaussImg = originImg.gaussianBlur(radius=30)\n",
    "show([originImg, gaussImg])"
   ]
  },
  {
   "cell_type": "code",
   "execution_count": null,
   "metadata": {},
   "outputs": [],
   "source": [
    " fs = cimg.filters() # build-in filters\n",
    " for i, f in enumerate(cimg.filters()):\n",
    "    print('{:3d} {}'.format(i,f))"
   ]
  },
  {
   "cell_type": "code",
   "execution_count": null,
   "metadata": {},
   "outputs": [],
   "source": [
    "cimg.inputs('CIZoomBlur') # filters inputs"
   ]
  },
  {
   "cell_type": "code",
   "execution_count": null,
   "metadata": {},
   "outputs": [],
   "source": [
    "zoomBImg = originImg.zoomBlur(center=[originImg.size[0] / 2,originImg.size[1] / 2],Amount=5)\n",
    "show([originImg,zoomBImg])\n"
   ]
  },
  {
   "cell_type": "markdown",
   "metadata": {},
   "source": [
    "### Core Image Generator"
   ]
  },
  {
   "cell_type": "code",
   "execution_count": null,
   "metadata": {},
   "outputs": [],
   "source": [
    "# 生成二维码\n",
    "qr = cimg.fromGenerator('CIQRCodeGenerator', message='kiss me')\n",
    "show([qr], interpolation='nearest')"
   ]
  },
  {
   "cell_type": "code",
   "execution_count": null,
   "metadata": {
    "scrolled": true
   },
   "outputs": [],
   "source": [
    "wwdc = cimg.fromGenerator('CITextImageGenerator',\n",
    "                          text='WWDC\\n 2019',\n",
    "                          fontName='SFHello-Bold',\n",
    "                          fontSize=400,\n",
    "                          scaleFactor=1).colorInvert()\n",
    "show(wwdc.scale(0.5,0.5),title=\"wwdc\")"
   ]
  },
  {
   "cell_type": "code",
   "execution_count": null,
   "metadata": {
    "scrolled": true
   },
   "outputs": [],
   "source": [
    "bridge = cimg.fromFile('./resources/GGBridge_2.jpg')\n",
    "distortion = bridge.vortexDistortion(inputCenter=(bridge.size[0]/2, bridge.size[1]/2), \n",
    "                                   radius=bridge.size[0],\n",
    "                                   angle=4000)\n",
    "show([bridge,distortion])"
   ]
  },
  {
   "cell_type": "code",
   "execution_count": null,
   "metadata": {},
   "outputs": [],
   "source": [
    "ary =  distortion.render()\n",
    "import numpy as np\n",
    "print('array type', type(ary), ary.shape, ary.dtype)\n",
    "print('array stats = ', ary.min(), np.percentile(ary, 50), ary.max())"
   ]
  },
  {
   "cell_type": "markdown",
   "metadata": {},
   "source": [
    "### Numpy to CoreImge"
   ]
  },
  {
   "cell_type": "code",
   "execution_count": null,
   "metadata": {},
   "outputs": [],
   "source": [
    "noise = np.random.rand(512,512,3)\n",
    "noise[noise < 0.75] = 0\n",
    "show(noise)"
   ]
  },
  {
   "cell_type": "code",
   "execution_count": null,
   "metadata": {},
   "outputs": [],
   "source": [
    "noiseImg = cimg(noise)\n",
    "print(type(noiseImg))\n",
    "print(noiseImg.ciimage)"
   ]
  },
  {
   "cell_type": "code",
   "execution_count": null,
   "metadata": {},
   "outputs": [],
   "source": [
    "#print([10]*2)\n",
    "fimg1 = noiseImg.discBlur(radius = 10)\n",
    "fimg2 = fimg1.lightTunnel(center = [noiseImg.size[0]/2]*2, radius = noiseImg.size[0] / 3)\n",
    "fimg3 = fimg2.colorControls(contrast = 1.2, saturation = 1.3)\n",
    "fimg4 = fimg3.exposureAdjust(EV = 2).gammaAdjust(power = 2)\n",
    "show(fimg1, title = 'disc blur', at = 141)\n",
    "show(fimg2, title = 'light tunnel', at = 142)\n",
    "show(fimg3, title = 'color control', at = 143)\n",
    "show(fimg4, title = 'exposure Adjust', at = 144)\n",
    "show(fimg4, title = 'Numpy to Core Image')"
   ]
  },
  {
   "cell_type": "markdown",
   "metadata": {},
   "source": [
    "### Custom kernel"
   ]
  },
  {
   "cell_type": "code",
   "execution_count": null,
   "metadata": {},
   "outputs": [],
   "source": [
    "# five tap Laplacian \n",
    "#  0  -1   0\n",
    "# -1  4  -1\n",
    "#  0  -1   0\n",
    "source = \"\"\" kernel vec4 sharpen(samplers, float amount) {\n",
    "    vec2 p = destCoord();\n",
    "    vec4 a = sample(s, samplerTransform(s, p + vec2(-1.0,  0.0)));\n",
    "    vec4 b = sample(s, samplerTransform(s, p + vec2( 0.0,  1.0)));\n",
    "    vec4 c = sample(s, samplerTransform(s, p));\n",
    "    vec4 d = sample(s, samplerTransform(s, p + vec2( 1.0,  0.0)));\n",
    "    vec3 e = sample(s, samplerTransform(s, p + vec2( 0.0, -1.0)));\n",
    "    vec4 L = 4.0 * c - a - b - d  - e;\n",
    "    return vec4(c.rgb + amount * L.rgb, c.a);\n",
    "} \"\"\"\n",
    "\n",
    "sample = cimg.fromFile('resources/SampleImage.jpg');\n",
    "result = sample.applyKernel(source,\n",
    "                            2,\n",
    "                            extent = (255, 500, 256, 256),\n",
    "                            roi = lambda index, r: inset(r, -1, -1))\n",
    "show([sample, result])"
   ]
  },
  {
   "cell_type": "markdown",
   "metadata": {},
   "source": [
    "### Putting it all together"
   ]
  },
  {
   "cell_type": "code",
   "execution_count": null,
   "metadata": {},
   "outputs": [],
   "source": [
    "aircraft = cimg.fromFile('resources/aircraft.png').scale(0.5,0.5)\n",
    "show(aircraft)"
   ]
  },
  {
   "cell_type": "code",
   "execution_count": null,
   "metadata": {},
   "outputs": [],
   "source": [
    "composite = np.zeros((int(aircraft.size[1]), int(aircraft.size[0]), 3),dtype=float)\n",
    "#print(composite)\n",
    "rows = aircraft.size[1]\n",
    "\n",
    "def addBand(i, name, args):\n",
    "    # apply filter via explicit name and args\n",
    "    band = aircraft.applyFilter(name, **args)\n",
    "    #print(band.render())\n",
    "    # create a label with filter name\n",
    "    label = cimg.fromGenerator('CITextImageGenerator',\n",
    "                               text = name,\n",
    "                               fontName = 'SFHello',\n",
    "                               fontSize = 80,\n",
    "                               scaleFactor=1)\n",
    "    label = label.colorInvert().whitePointAdjust(color = color(1, 0, 0, 1))\n",
    "    \n",
    "    # layer text over the image\n",
    "    lo, hi = i * rows, (i + 1) * rows\n",
    "    label = label.translate(0.01 * composite.shape[1], composite.shape[0] - hi + (hi - lo) / 2)\n",
    "    band = label.over(band)\n",
    "    \n",
    "    # slice the CIImage here: render only happens in that band \n",
    "    print(band.render().shape,band.render().dtpye)\n",
    "    composite[lo:hi, ...] = band.render()[lo:hi,...]"
   ]
  },
  {
   "cell_type": "code",
   "execution_count": null,
   "metadata": {},
   "outputs": [],
   "source": [
    "addBand(0, 'photoEffectNoir', {})\n",
    "#addBand(1, 'morphologyMinimum', {'radius': 10})\n",
    "#addBand(2, 'gaussianBlur', {'radius': 10})\n",
    "#addBand(3, 'vibrance', {'amount': 8})\n",
    "#addBand(4, 'pixellate', {'center': (0,0), 'scale': 25})\n",
    "#show(composite)"
   ]
  }
 ],
 "metadata": {
  "kernelspec": {
   "display_name": "Python 3",
   "language": "python",
   "name": "python3"
  },
  "language_info": {
   "codemirror_mode": {
    "name": "ipython",
    "version": 3
   },
   "file_extension": ".py",
   "mimetype": "text/x-python",
   "name": "python",
   "nbconvert_exporter": "python",
   "pygments_lexer": "ipython3",
   "version": "3.6.5"
  }
 },
 "nbformat": 4,
 "nbformat_minor": 2
}
